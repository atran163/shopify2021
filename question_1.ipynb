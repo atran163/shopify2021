{
  "nbformat": 4,
  "nbformat_minor": 0,
  "metadata": {
    "colab": {
      "name": "Shopify 2021 Challenge",
      "provenance": [],
      "authorship_tag": "ABX9TyNh8DTQAsUwJXv7ojQQ1SNx",
      "include_colab_link": true
    },
    "kernelspec": {
      "name": "python3",
      "display_name": "Python 3"
    }
  },
  "cells": [
    {
      "cell_type": "markdown",
      "metadata": {
        "id": "view-in-github",
        "colab_type": "text"
      },
      "source": [
        "<a href=\"https://colab.research.google.com/github/atran163/shopify2021/blob/master/Shopify_2021_Challenge.ipynb\" target=\"_parent\"><img src=\"https://colab.research.google.com/assets/colab-badge.svg\" alt=\"Open In Colab\"/></a>"
      ]
    },
    {
      "cell_type": "code",
      "metadata": {
        "id": "aZCFDjLLkcR7",
        "colab_type": "code",
        "colab": {
          "base_uri": "https://localhost:8080/",
          "height": 71
        },
        "outputId": "61bc2011-e358-45fa-efbf-889720463265"
      },
      "source": [
        "import pandas as pd\n",
        "import seaborn as sb"
      ],
      "execution_count": null,
      "outputs": [
        {
          "output_type": "stream",
          "text": [
            "/usr/local/lib/python3.6/dist-packages/statsmodels/tools/_testing.py:19: FutureWarning: pandas.util.testing is deprecated. Use the functions in the public API at pandas.testing instead.\n",
            "  import pandas.util.testing as tm\n"
          ],
          "name": "stderr"
        }
      ]
    },
    {
      "cell_type": "markdown",
      "metadata": {
        "id": "1JX9VuIllAU9",
        "colab_type": "text"
      },
      "source": [
        "### Research Question\n",
        "\n"
      ]
    },
    {
      "cell_type": "markdown",
      "metadata": {
        "id": "DRhhWts4siiX",
        "colab_type": "text"
      },
      "source": [
        "On Shopify, we have exactly 100 sneaker shops, and each of these shops sells only one model of shoe. We want to do some analysis of the average order value (AOV). When we look at orders data over a 30 day window, we naively calculate an AOV of $3145.13. Given that we know these shops are selling sneakers, a relatively affordable item, something seems wrong with our analysis. \n",
        "\n",
        "Think about what could be going wrong with our calculation. Think about a better way to evaluate this data. \n",
        "What metric would you report for this dataset?\n",
        "What is its value?"
      ]
    },
    {
      "cell_type": "markdown",
      "metadata": {
        "id": "YzvNbroOlTHh",
        "colab_type": "text"
      },
      "source": [
        "### Playing with the Data\n"
      ]
    },
    {
      "cell_type": "code",
      "metadata": {
        "id": "EUdKdKSRkvSU",
        "colab_type": "code",
        "colab": {
          "base_uri": "https://localhost:8080/",
          "height": 204
        },
        "outputId": "4a1e52cb-810a-4997-8a98-512ba0cfb063"
      },
      "source": [
        "df = pd.read_csv(\"shopify_data.csv\")\n",
        "df.head()"
      ],
      "execution_count": null,
      "outputs": [
        {
          "output_type": "execute_result",
          "data": {
            "text/html": [
              "<div>\n",
              "<style scoped>\n",
              "    .dataframe tbody tr th:only-of-type {\n",
              "        vertical-align: middle;\n",
              "    }\n",
              "\n",
              "    .dataframe tbody tr th {\n",
              "        vertical-align: top;\n",
              "    }\n",
              "\n",
              "    .dataframe thead th {\n",
              "        text-align: right;\n",
              "    }\n",
              "</style>\n",
              "<table border=\"1\" class=\"dataframe\">\n",
              "  <thead>\n",
              "    <tr style=\"text-align: right;\">\n",
              "      <th></th>\n",
              "      <th>order_id</th>\n",
              "      <th>shop_id</th>\n",
              "      <th>user_id</th>\n",
              "      <th>order_amount</th>\n",
              "      <th>total_items</th>\n",
              "      <th>payment_method</th>\n",
              "      <th>created_at</th>\n",
              "    </tr>\n",
              "  </thead>\n",
              "  <tbody>\n",
              "    <tr>\n",
              "      <th>0</th>\n",
              "      <td>1</td>\n",
              "      <td>53</td>\n",
              "      <td>746</td>\n",
              "      <td>224</td>\n",
              "      <td>2</td>\n",
              "      <td>cash</td>\n",
              "      <td>2017-03-13 12:36:56</td>\n",
              "    </tr>\n",
              "    <tr>\n",
              "      <th>1</th>\n",
              "      <td>2</td>\n",
              "      <td>92</td>\n",
              "      <td>925</td>\n",
              "      <td>90</td>\n",
              "      <td>1</td>\n",
              "      <td>cash</td>\n",
              "      <td>2017-03-03 17:38:52</td>\n",
              "    </tr>\n",
              "    <tr>\n",
              "      <th>2</th>\n",
              "      <td>3</td>\n",
              "      <td>44</td>\n",
              "      <td>861</td>\n",
              "      <td>144</td>\n",
              "      <td>1</td>\n",
              "      <td>cash</td>\n",
              "      <td>2017-03-14 4:23:56</td>\n",
              "    </tr>\n",
              "    <tr>\n",
              "      <th>3</th>\n",
              "      <td>4</td>\n",
              "      <td>18</td>\n",
              "      <td>935</td>\n",
              "      <td>156</td>\n",
              "      <td>1</td>\n",
              "      <td>credit_card</td>\n",
              "      <td>2017-03-26 12:43:37</td>\n",
              "    </tr>\n",
              "    <tr>\n",
              "      <th>4</th>\n",
              "      <td>5</td>\n",
              "      <td>18</td>\n",
              "      <td>883</td>\n",
              "      <td>156</td>\n",
              "      <td>1</td>\n",
              "      <td>credit_card</td>\n",
              "      <td>2017-03-01 4:35:11</td>\n",
              "    </tr>\n",
              "  </tbody>\n",
              "</table>\n",
              "</div>"
            ],
            "text/plain": [
              "   order_id  shop_id  user_id  ...  total_items  payment_method           created_at\n",
              "0         1       53      746  ...            2            cash  2017-03-13 12:36:56\n",
              "1         2       92      925  ...            1            cash  2017-03-03 17:38:52\n",
              "2         3       44      861  ...            1            cash   2017-03-14 4:23:56\n",
              "3         4       18      935  ...            1     credit_card  2017-03-26 12:43:37\n",
              "4         5       18      883  ...            1     credit_card   2017-03-01 4:35:11\n",
              "\n",
              "[5 rows x 7 columns]"
            ]
          },
          "metadata": {
            "tags": []
          },
          "execution_count": 37
        }
      ]
    },
    {
      "cell_type": "markdown",
      "metadata": {
        "id": "F1B29PZGlrA1",
        "colab_type": "text"
      },
      "source": [
        "**What variables we are working with:**\n",
        "*   order_id = unique for every order, values do not repeat\n",
        "*   shop_id = 100 unique values for 100 different shops \n",
        "\n",
        "\n",
        "*   user_id = 300 people bought shoes \n",
        "*   order_amount = price spent in total\n",
        "\n",
        "\n",
        "*   total_items = users may have bought 1 or more items\n",
        "*   payment_method = cash, card, debit\n",
        "\n",
        "\n",
        "*   created_at = when the item was purchased\n",
        "\n",
        "\n",
        "\n",
        "\n",
        "\n",
        "\n",
        "\n"
      ]
    },
    {
      "cell_type": "markdown",
      "metadata": {
        "id": "yDySSsV8mzO3",
        "colab_type": "text"
      },
      "source": [
        "**We are examining AOV which is defined as average value of a shop's sales**\n",
        "Let's look at the distribution of prices.\n",
        "\n",
        "> It seems that most purchases are in between $0 - $10,000. This doesn't tell us much, but Python automatically gave us these bin widths. Why? Because we see that a user has bought a total of at least $60,000.\n"
      ]
    },
    {
      "cell_type": "code",
      "metadata": {
        "id": "TU23Uy_YmsGA",
        "colab_type": "code",
        "colab": {
          "base_uri": "https://localhost:8080/",
          "height": 293
        },
        "outputId": "1e88961c-360f-4252-ef53-9f4d11db398e"
      },
      "source": [
        "df[\"order_amount\"].plot.hist(density = True)"
      ],
      "execution_count": null,
      "outputs": [
        {
          "output_type": "execute_result",
          "data": {
            "text/plain": [
              "<matplotlib.axes._subplots.AxesSubplot at 0x7f2047d14128>"
            ]
          },
          "metadata": {
            "tags": []
          },
          "execution_count": 27
        },
        {
          "output_type": "display_data",
          "data": {
            "image/png": "[encoded data removed]",
            "text/plain": [
              "<Figure size 432x288 with 1 Axes>"
            ]
          },
          "metadata": {
            "tags": [],
            "needs_background": "light"
          }
        }
      ]
    },
    {
      "cell_type": "markdown",
      "metadata": {
        "id": "QpurMfsvqnPx",
        "colab_type": "text"
      },
      "source": [
        "**Let's find this user in the data to see if we can know more about the purchase**\n",
        "\n",
        "\n",
        "> The code states to give me the original dataframe where the order_amount is equal to the maximum order amount in our dataset. \n",
        "\n",
        "\n",
        "\n",
        "\n",
        "\n",
        "> We see that user_id 607 has bought 2,000 shoes each time through credit card through shop_id 42. Weird... They buy the same amount and same number of items each time, and they always buy at 4pm. \n",
        "\n",
        "\n",
        "\n",
        "**Looks like something suspicious is going on down here**\n"
      ]
    },
    {
      "cell_type": "code",
      "metadata": {
        "id": "S-wk-hIUni5q",
        "colab_type": "code",
        "colab": {
          "base_uri": "https://localhost:8080/",
          "height": 576
        },
        "outputId": "eb7b5be5-1b42-4fb9-de8e-6e95dc39956f"
      },
      "source": [
        "df[df[\"order_amount\"] == df[\"order_amount\"].max()]  "
      ],
      "execution_count": null,
      "outputs": [
        {
          "output_type": "execute_result",
          "data": {
            "text/html": [
              "<div>\n",
              "<style scoped>\n",
              "    .dataframe tbody tr th:only-of-type {\n",
              "        vertical-align: middle;\n",
              "    }\n",
              "\n",
              "    .dataframe tbody tr th {\n",
              "        vertical-align: top;\n",
              "    }\n",
              "\n",
              "    .dataframe thead th {\n",
              "        text-align: right;\n",
              "    }\n",
              "</style>\n",
              "<table border=\"1\" class=\"dataframe\">\n",
              "  <thead>\n",
              "    <tr style=\"text-align: right;\">\n",
              "      <th></th>\n",
              "      <th>order_id</th>\n",
              "      <th>shop_id</th>\n",
              "      <th>user_id</th>\n",
              "      <th>order_amount</th>\n",
              "      <th>total_items</th>\n",
              "      <th>payment_method</th>\n",
              "      <th>created_at</th>\n",
              "    </tr>\n",
              "  </thead>\n",
              "  <tbody>\n",
              "    <tr>\n",
              "      <th>15</th>\n",
              "      <td>16</td>\n",
              "      <td>42</td>\n",
              "      <td>607</td>\n",
              "      <td>704000</td>\n",
              "      <td>2000</td>\n",
              "      <td>credit_card</td>\n",
              "      <td>2017-03-07 4:00:00</td>\n",
              "    </tr>\n",
              "    <tr>\n",
              "      <th>60</th>\n",
              "      <td>61</td>\n",
              "      <td>42</td>\n",
              "      <td>607</td>\n",
              "      <td>704000</td>\n",
              "      <td>2000</td>\n",
              "      <td>credit_card</td>\n",
              "      <td>2017-03-04 4:00:00</td>\n",
              "    </tr>\n",
              "    <tr>\n",
              "      <th>520</th>\n",
              "      <td>521</td>\n",
              "      <td>42</td>\n",
              "      <td>607</td>\n",
              "      <td>704000</td>\n",
              "      <td>2000</td>\n",
              "      <td>credit_card</td>\n",
              "      <td>2017-03-02 4:00:00</td>\n",
              "    </tr>\n",
              "    <tr>\n",
              "      <th>1104</th>\n",
              "      <td>1105</td>\n",
              "      <td>42</td>\n",
              "      <td>607</td>\n",
              "      <td>704000</td>\n",
              "      <td>2000</td>\n",
              "      <td>credit_card</td>\n",
              "      <td>2017-03-24 4:00:00</td>\n",
              "    </tr>\n",
              "    <tr>\n",
              "      <th>1362</th>\n",
              "      <td>1363</td>\n",
              "      <td>42</td>\n",
              "      <td>607</td>\n",
              "      <td>704000</td>\n",
              "      <td>2000</td>\n",
              "      <td>credit_card</td>\n",
              "      <td>2017-03-15 4:00:00</td>\n",
              "    </tr>\n",
              "    <tr>\n",
              "      <th>1436</th>\n",
              "      <td>1437</td>\n",
              "      <td>42</td>\n",
              "      <td>607</td>\n",
              "      <td>704000</td>\n",
              "      <td>2000</td>\n",
              "      <td>credit_card</td>\n",
              "      <td>2017-03-11 4:00:00</td>\n",
              "    </tr>\n",
              "    <tr>\n",
              "      <th>1562</th>\n",
              "      <td>1563</td>\n",
              "      <td>42</td>\n",
              "      <td>607</td>\n",
              "      <td>704000</td>\n",
              "      <td>2000</td>\n",
              "      <td>credit_card</td>\n",
              "      <td>2017-03-19 4:00:00</td>\n",
              "    </tr>\n",
              "    <tr>\n",
              "      <th>1602</th>\n",
              "      <td>1603</td>\n",
              "      <td>42</td>\n",
              "      <td>607</td>\n",
              "      <td>704000</td>\n",
              "      <td>2000</td>\n",
              "      <td>credit_card</td>\n",
              "      <td>2017-03-17 4:00:00</td>\n",
              "    </tr>\n",
              "    <tr>\n",
              "      <th>2153</th>\n",
              "      <td>2154</td>\n",
              "      <td>42</td>\n",
              "      <td>607</td>\n",
              "      <td>704000</td>\n",
              "      <td>2000</td>\n",
              "      <td>credit_card</td>\n",
              "      <td>2017-03-12 4:00:00</td>\n",
              "    </tr>\n",
              "    <tr>\n",
              "      <th>2297</th>\n",
              "      <td>2298</td>\n",
              "      <td>42</td>\n",
              "      <td>607</td>\n",
              "      <td>704000</td>\n",
              "      <td>2000</td>\n",
              "      <td>credit_card</td>\n",
              "      <td>2017-03-07 4:00:00</td>\n",
              "    </tr>\n",
              "    <tr>\n",
              "      <th>2835</th>\n",
              "      <td>2836</td>\n",
              "      <td>42</td>\n",
              "      <td>607</td>\n",
              "      <td>704000</td>\n",
              "      <td>2000</td>\n",
              "      <td>credit_card</td>\n",
              "      <td>2017-03-28 4:00:00</td>\n",
              "    </tr>\n",
              "    <tr>\n",
              "      <th>2969</th>\n",
              "      <td>2970</td>\n",
              "      <td>42</td>\n",
              "      <td>607</td>\n",
              "      <td>704000</td>\n",
              "      <td>2000</td>\n",
              "      <td>credit_card</td>\n",
              "      <td>2017-03-28 4:00:00</td>\n",
              "    </tr>\n",
              "    <tr>\n",
              "      <th>3332</th>\n",
              "      <td>3333</td>\n",
              "      <td>42</td>\n",
              "      <td>607</td>\n",
              "      <td>704000</td>\n",
              "      <td>2000</td>\n",
              "      <td>credit_card</td>\n",
              "      <td>2017-03-24 4:00:00</td>\n",
              "    </tr>\n",
              "    <tr>\n",
              "      <th>4056</th>\n",
              "      <td>4057</td>\n",
              "      <td>42</td>\n",
              "      <td>607</td>\n",
              "      <td>704000</td>\n",
              "      <td>2000</td>\n",
              "      <td>credit_card</td>\n",
              "      <td>2017-03-28 4:00:00</td>\n",
              "    </tr>\n",
              "    <tr>\n",
              "      <th>4646</th>\n",
              "      <td>4647</td>\n",
              "      <td>42</td>\n",
              "      <td>607</td>\n",
              "      <td>704000</td>\n",
              "      <td>2000</td>\n",
              "      <td>credit_card</td>\n",
              "      <td>2017-03-02 4:00:00</td>\n",
              "    </tr>\n",
              "    <tr>\n",
              "      <th>4868</th>\n",
              "      <td>4869</td>\n",
              "      <td>42</td>\n",
              "      <td>607</td>\n",
              "      <td>704000</td>\n",
              "      <td>2000</td>\n",
              "      <td>credit_card</td>\n",
              "      <td>2017-03-22 4:00:00</td>\n",
              "    </tr>\n",
              "    <tr>\n",
              "      <th>4882</th>\n",
              "      <td>4883</td>\n",
              "      <td>42</td>\n",
              "      <td>607</td>\n",
              "      <td>704000</td>\n",
              "      <td>2000</td>\n",
              "      <td>credit_card</td>\n",
              "      <td>2017-03-25 4:00:00</td>\n",
              "    </tr>\n",
              "  </tbody>\n",
              "</table>\n",
              "</div>"
            ],
            "text/plain": [
              "      order_id  shop_id  ...  payment_method          created_at\n",
              "15          16       42  ...     credit_card  2017-03-07 4:00:00\n",
              "60          61       42  ...     credit_card  2017-03-04 4:00:00\n",
              "520        521       42  ...     credit_card  2017-03-02 4:00:00\n",
              "1104      1105       42  ...     credit_card  2017-03-24 4:00:00\n",
              "1362      1363       42  ...     credit_card  2017-03-15 4:00:00\n",
              "1436      1437       42  ...     credit_card  2017-03-11 4:00:00\n",
              "1562      1563       42  ...     credit_card  2017-03-19 4:00:00\n",
              "1602      1603       42  ...     credit_card  2017-03-17 4:00:00\n",
              "2153      2154       42  ...     credit_card  2017-03-12 4:00:00\n",
              "2297      2298       42  ...     credit_card  2017-03-07 4:00:00\n",
              "2835      2836       42  ...     credit_card  2017-03-28 4:00:00\n",
              "2969      2970       42  ...     credit_card  2017-03-28 4:00:00\n",
              "3332      3333       42  ...     credit_card  2017-03-24 4:00:00\n",
              "4056      4057       42  ...     credit_card  2017-03-28 4:00:00\n",
              "4646      4647       42  ...     credit_card  2017-03-02 4:00:00\n",
              "4868      4869       42  ...     credit_card  2017-03-22 4:00:00\n",
              "4882      4883       42  ...     credit_card  2017-03-25 4:00:00\n",
              "\n",
              "[17 rows x 7 columns]"
            ]
          },
          "metadata": {
            "tags": []
          },
          "execution_count": 31
        }
      ]
    },
    {
      "cell_type": "markdown",
      "metadata": {
        "id": "sJhjSgXJv3RI",
        "colab_type": "text"
      },
      "source": [
        "This person bought shoes with an average price of 352 dollars! A lot more expensive than other stores."
      ]
    },
    {
      "cell_type": "code",
      "metadata": {
        "id": "FkUctrrSvvbV",
        "colab_type": "code",
        "colab": {
          "base_uri": "https://localhost:8080/",
          "height": 34
        },
        "outputId": "4f3bb5d3-3176-4898-9e77-55b209bbadd7"
      },
      "source": [
        "704000 / 2000"
      ],
      "execution_count": null,
      "outputs": [
        {
          "output_type": "execute_result",
          "data": {
            "text/plain": [
              "352.0"
            ]
          },
          "metadata": {
            "tags": []
          },
          "execution_count": 44
        }
      ]
    },
    {
      "cell_type": "markdown",
      "metadata": {
        "id": "ZBpeVWJlraNe",
        "colab_type": "text"
      },
      "source": [
        "**Let's calculate AOV anyways with this user to see what we find**"
      ]
    },
    {
      "cell_type": "code",
      "metadata": {
        "id": "y59lLPbHrfmx",
        "colab_type": "code",
        "colab": {
          "base_uri": "https://localhost:8080/",
          "height": 238
        },
        "outputId": "cdad117f-e124-49e2-b476-0437333ea1ee"
      },
      "source": [
        "df.groupby(\"shop_id\")[\"order_amount\"].mean()"
      ],
      "execution_count": null,
      "outputs": [
        {
          "output_type": "execute_result",
          "data": {
            "text/plain": [
              "shop_id\n",
              "1      308.818182\n",
              "2      174.327273\n",
              "3      305.250000\n",
              "4      258.509804\n",
              "5      290.311111\n",
              "          ...    \n",
              "96     330.000000\n",
              "97     324.000000\n",
              "98     245.362069\n",
              "99     339.444444\n",
              "100    213.675000\n",
              "Name: order_amount, Length: 100, dtype: float64"
            ]
          },
          "metadata": {
            "tags": []
          },
          "execution_count": 42
        }
      ]
    },
    {
      "cell_type": "code",
      "metadata": {
        "id": "etvIor-Zr80X",
        "colab_type": "code",
        "colab": {
          "base_uri": "https://localhost:8080/",
          "height": 34
        },
        "outputId": "4e9335e4-b20e-4fdc-e22a-ffaefcb7e5f7"
      },
      "source": [
        "df.groupby(\"shop_id\")[\"order_amount\"].mean().mean()"
      ],
      "execution_count": null,
      "outputs": [
        {
          "output_type": "execute_result",
          "data": {
            "text/plain": [
              "3136.834087887025"
            ]
          },
          "metadata": {
            "tags": []
          },
          "execution_count": 43
        }
      ]
    },
    {
      "cell_type": "markdown",
      "metadata": {
        "id": "-ozmJ4uFr_G7",
        "colab_type": "text"
      },
      "source": [
        "**Okay, we found close to the same amount**\n",
        "\n",
        "AOV stands for average order value. To find this, I took each store, and found there average order value. For example, the first shop has an AOV of 308. The next is 174, then 305, and so on. I then took the average of these values to find the overall AOV, of $3136. "
      ]
    },
    {
      "cell_type": "markdown",
      "metadata": {
        "id": "UeGMAh1Ask0k",
        "colab_type": "text"
      },
      "source": [
        "### Why AOV Isn't The Best"
      ]
    },
    {
      "cell_type": "markdown",
      "metadata": {
        "id": "keElCnRztDCs",
        "colab_type": "text"
      },
      "source": [
        "AOV has many pros, but AOV is not a good metric with outlier values. We saw how much it skewed our AOV with that one user's mass shopping spree. Here's why else it isn't the best:\n",
        "\n",
        "\n",
        "\n",
        "1.   It's good that we're calculating AOV with just shoes. But shoes have a relatively wide price range.\n",
        "2.   It's hard to notice conversion rate through AOV. Many ecommerce businesses do want sales, but they also want new customers! Our AOV is so skewed because it was *one* singular customer buying big purchases\n",
        "\n",
        "\n",
        "\n",
        "\n",
        "\n",
        "\n",
        "\n"
      ]
    },
    {
      "cell_type": "markdown",
      "metadata": {
        "id": "jHXB9f6ewqMC",
        "colab_type": "text"
      },
      "source": [
        "### So, What Should We Use?"
      ]
    },
    {
      "cell_type": "markdown",
      "metadata": {
        "id": "sFkiQKzgwvsi",
        "colab_type": "text"
      },
      "source": [
        "Depends! The main question we shoud ask the customer/business owner is **what do you want to achieve?**\n",
        "\n",
        "If you are looking to boost sales overall, you should look at Daily Sales, Conversion Rates, Site Traffic\n",
        "\n",
        "If you are looking to draw in new customers, you should look at Shopping Cart Abandonement Rate, Competitive Pricing\n",
        "\n",
        "If you are looking to reduce customer service emails, you should look at which websites/pages are being looked at before "
      ]
    }
  ]
}
